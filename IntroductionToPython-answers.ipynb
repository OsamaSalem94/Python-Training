{
 "cells": [
  {
   "cell_type": "markdown",
   "metadata": {
    "id": "eHp-jJPx7YKc"
   },
   "source": [
    "**Exercise 1**\n",
    "\n",
    "Write a code to produce the following result. Multiplication table till 5."
   ]
  },
  {
   "cell_type": "code",
   "execution_count": 1,
   "metadata": {
    "colab": {
     "base_uri": "https://localhost:8080/"
    },
    "id": "fui0BGlk4-XS",
    "outputId": "c68351a2-eb38-4e58-b0ee-36006a68b80d"
   },
   "outputs": [
    {
     "name": "stdout",
     "output_type": "stream",
     "text": [
      "1 x 0 = 0\n",
      "1 x 1 = 1\n",
      "1 x 2 = 2\n",
      "1 x 3 = 3\n",
      "1 x 4 = 4\n",
      "2 x 0 = 0\n",
      "2 x 1 = 2\n",
      "2 x 2 = 4\n",
      "2 x 3 = 6\n",
      "2 x 4 = 8\n",
      "3 x 0 = 0\n",
      "3 x 1 = 3\n",
      "3 x 2 = 6\n",
      "3 x 3 = 9\n",
      "3 x 4 = 12\n",
      "4 x 0 = 0\n",
      "4 x 1 = 4\n",
      "4 x 2 = 8\n",
      "4 x 3 = 12\n",
      "4 x 4 = 16\n",
      "5 x 0 = 0\n",
      "5 x 1 = 5\n",
      "5 x 2 = 10\n",
      "5 x 3 = 15\n",
      "5 x 4 = 20\n"
     ]
    }
   ],
   "source": [
    "for i in range(1,6):\n",
    "    for j in range(5):\n",
    "        print(\"{} x {} = {}\" .format(i, j, i*j))"
   ]
  },
  {
   "cell_type": "markdown",
   "metadata": {
    "id": "JCh_-0Tp9bsu"
   },
   "source": [
    "**Exercise 2**\n",
    "\n",
    "Build a calculator that takes 2 integers from the user and a mathematical sign (+, -, *, /), then does the operation. Print an error message for division by zero."
   ]
  },
  {
   "cell_type": "code",
   "execution_count": null,
   "metadata": {
    "colab": {
     "base_uri": "https://localhost:8080/"
    },
    "id": "s1DlCkIS8-jE",
    "outputId": "2de402bb-9c4e-469e-fc49-ae91ebf4007b"
   },
   "outputs": [],
   "source": [
    "num1 = int(input('Enter first number: '))\n",
    "num2 = int(input('Enter second number: '))\n",
    "opSign = input('Enter operation sign: ')\n",
    "\n",
    "if opSign == '+':\n",
    "    print(\"{} {} {} = {}\" .format(num1, opSign, num2, num1+num2))\n",
    "elif opSign == '-':\n",
    "    print(\"{} {} {} = {}\" .format(num1, opSign, num2, num1-num2))\n",
    "elif opSign == '*':\n",
    "    print(\"{} {} {} = {}\" .format(num1, opSign, num2, num1*num2))\n",
    "elif opSign == '/':\n",
    "    if num2 == 0:\n",
    "        print(\"Operation prohibited. Can not divide by zero.\")\n",
    "    else:\n",
    "        print(\"{} {} {} = {:.2f}\" .format(num1, opSign, num2, num1/num2))\n",
    "else:\n",
    "    print(\"Operation cancelled. Unrecognized input.\")"
   ]
  },
  {
   "cell_type": "markdown",
   "metadata": {
    "id": "5zPj15TKFDIf"
   },
   "source": [
    "**Exercise 3**\n",
    "\n",
    "Repeat the last calculator exercise using a function that takes as arguments the three inputs. Try by calling the function. No user input."
   ]
  },
  {
   "cell_type": "code",
   "execution_count": null,
   "metadata": {
    "id": "zjvi6zhlEjJI"
   },
   "outputs": [],
   "source": [
    "def calcfun(num1, num2, opSign):  \n",
    "    if opSign == '+':\n",
    "        print(\"{} {} {} = {}\" .format(num1, opSign, num2, num1+num2))\n",
    "    elif opSign == '-':\n",
    "        print(\"{} {} {} = {}\" .format(num1, opSign, num2, num1-num2))\n",
    "    elif opSign == '*':\n",
    "        print(\"{} {} {} = {}\" .format(num1, opSign, num2, num1*num2))\n",
    "    elif opSign == '/':\n",
    "        if num2 == 0:\n",
    "            print(\"Operation prohibited. Can not divide by zero.\")\n",
    "        else:\n",
    "            print(\"{} {} {} = {:.2f}\" .format(num1, opSign, num2, num1/num2))\n",
    "    else:\n",
    "        print(\"Operation cancelled. Unrecognized input.\")"
   ]
  },
  {
   "cell_type": "code",
   "execution_count": null,
   "metadata": {
    "colab": {
     "base_uri": "https://localhost:8080/"
    },
    "id": "mqsWyHCtEyXA",
    "outputId": "0242fbbe-3d16-4a75-9eb0-3a3cdd5c82fa"
   },
   "outputs": [],
   "source": [
    "calcfun(2,0,'/')"
   ]
  },
  {
   "cell_type": "markdown",
   "metadata": {
    "id": "YyjOjrsOlKNl"
   },
   "source": [
    "**Exercise 4**\n",
    "\n",
    "Write a function that takes two numbers as input, and return the values of the sum, difference, multiplication and division of both numbers. Assign the return values to four different variables when calling the function."
   ]
  },
  {
   "cell_type": "code",
   "execution_count": null,
   "metadata": {
    "id": "4q2A2woDeSSS"
   },
   "outputs": [],
   "source": [
    "def calcAll(a, b):\n",
    "    \"\"\"the function takes two arguments as input, and outputs the sum, difference, multiplication and division of both\"\"\"\n",
    "    print(\"Adddition = {}\\nSubtraction = {} \\nMultiplication = {}\" .format(a+b, a-b, a*b))\n",
    "    if b == 0:\n",
    "        print(\"Division operation cancelled, can not divide by zero.\")\n",
    "        divcan = \"Division operation cancelled, can not divide by zero.\"\n",
    "        return a+b, a-b, a*b, divcan\n",
    "    else:\n",
    "        print(\"Division =\", a/b)\n",
    "        return a+b, a-b, a*b, a/b\n",
    "    "
   ]
  },
  {
   "cell_type": "code",
   "execution_count": 6,
   "metadata": {
    "colab": {
     "base_uri": "https://localhost:8080/"
    },
    "id": "ej1KlhaEhoBb",
    "outputId": "5d408325-5295-4942-f057-394786594313"
   },
   "outputs": [
    {
     "name": "stdout",
     "output_type": "stream",
     "text": [
      "Adddition = 5\n",
      "Subtraction = 5 \n",
      "Multiplication = 0\n",
      "Division operation cancelled, can not divide by zero.\n"
     ]
    }
   ],
   "source": [
    "addition, subtraction, multip, division = calcAll(5, 0)    # importance of documentation > what the return values hold?"
   ]
  },
  {
   "cell_type": "code",
   "execution_count": 7,
   "metadata": {},
   "outputs": [
    {
     "data": {
      "text/plain": [
       "'Division operation cancelled, can not divide by zero.'"
      ]
     },
     "execution_count": 7,
     "metadata": {},
     "output_type": "execute_result"
    }
   ],
   "source": [
    "division"
   ]
  },
  {
   "cell_type": "markdown",
   "metadata": {},
   "source": [
    "**Exercise 5**\n",
    "\n",
    "Create a for loop to print all the values in ```d1```."
   ]
  },
  {
   "cell_type": "code",
   "execution_count": 1,
   "metadata": {},
   "outputs": [
    {
     "ename": "NameError",
     "evalue": "name 'd1' is not defined",
     "output_type": "error",
     "traceback": [
      "\u001b[1;31m---------------------------------------------------------------------------\u001b[0m",
      "\u001b[1;31mNameError\u001b[0m                                 Traceback (most recent call last)",
      "Input \u001b[1;32mIn [1]\u001b[0m, in \u001b[0;36m<cell line: 1>\u001b[1;34m()\u001b[0m\n\u001b[1;32m----> 1\u001b[0m \u001b[38;5;28;01mfor\u001b[39;00m i \u001b[38;5;129;01min\u001b[39;00m \u001b[43md1\u001b[49m:\n\u001b[0;32m      2\u001b[0m     \u001b[38;5;28mprint\u001b[39m(i)\n",
      "\u001b[1;31mNameError\u001b[0m: name 'd1' is not defined"
     ]
    }
   ],
   "source": [
    "for i in d1:\n",
    "    print(i)"
   ]
  },
  {
   "cell_type": "code",
   "execution_count": null,
   "metadata": {},
   "outputs": [],
   "source": [
    "for i,x in enumerate(d1):\n",
    "    print(\"Index {}: {}\" .format(i,x))"
   ]
  },
  {
   "cell_type": "markdown",
   "metadata": {},
   "source": [
    "**Exercise 6**\n",
    "\n",
    "Calculate the dot product (manually using for loops) of matrices A and B and store them in a matrix `C`. \n",
    "\n",
    "\\begin{equation*}\n",
    "A = \n",
    "\\begin{pmatrix}\n",
    "1 & 2 \\\\\n",
    "4 & 5\n",
    "\\end{pmatrix}\n",
    "\\end{equation*}\n",
    "       \n",
    "\\begin{equation*}\n",
    "B = \n",
    "\\begin{pmatrix}\n",
    "9 & 8 \\\\\n",
    "6 & 5 \n",
    "\\end{pmatrix}\n",
    "\\end{equation*}\n",
    "\n",
    "\\begin{equation*}\n",
    "C = \n",
    "\\begin{pmatrix}\n",
    "00 & 01 \\\\\n",
    "10 & 11 \n",
    "\\end{pmatrix}\n",
    "\\end{equation*}"
   ]
  },
  {
   "cell_type": "code",
   "execution_count": 2,
   "metadata": {},
   "outputs": [],
   "source": [
    "import numpy as np"
   ]
  },
  {
   "cell_type": "code",
   "execution_count": 3,
   "metadata": {},
   "outputs": [],
   "source": [
    "arrA = np.array([\n",
    "    [1,2],\n",
    "    [4,5]\n",
    "])\n",
    "\n",
    "arrB = np.array([\n",
    "    [9,8],\n",
    "    [6,5]\n",
    "])\n",
    "\n",
    "arrC = np.zeros([2,2])"
   ]
  },
  {
   "cell_type": "code",
   "execution_count": 4,
   "metadata": {},
   "outputs": [],
   "source": [
    "for i in range(2):\n",
    "    for j in range(2):\n",
    "        for k in range(2):\n",
    "            arrC[i,j] += arrA[i,k]*arrB[k,j]"
   ]
  },
  {
   "cell_type": "code",
   "execution_count": 5,
   "metadata": {},
   "outputs": [
    {
     "name": "stdout",
     "output_type": "stream",
     "text": [
      "[[21. 18.]\n",
      " [66. 57.]]\n"
     ]
    }
   ],
   "source": [
    "print(arrC)"
   ]
  },
  {
   "cell_type": "code",
   "execution_count": 6,
   "metadata": {},
   "outputs": [
    {
     "name": "stdout",
     "output_type": "stream",
     "text": [
      "[[21 18]\n",
      " [66 57]]\n"
     ]
    }
   ],
   "source": [
    "print(np.dot(arrA, arrB))"
   ]
  },
  {
   "cell_type": "markdown",
   "metadata": {},
   "source": [
    "**Exercise 7**\n",
    "\n",
    "Import \"Grades.csv\" assign column ID as the index of your DataFrame. \n",
    "1. Assign the data for student with ID 6104062 to a variable `student`.\n",
    "2. Print the data type of `student`.\n",
    "3. Print the name of `student`.\n",
    "4. Change the 'Mathematics' and 'English' grades to 38 and 39 for student 6104065, and 45 and 43 for student 6104067.\n",
    "5. For all students:\n",
    "    -  Print all the data excluding the 'Name' column.\n",
    "    -  Add column `Total [%]`. The values in `Total [%]` are equal to the overall grade percentage (assuming each subject is 50 marks)."
   ]
  },
  {
   "cell_type": "code",
   "execution_count": 1,
   "metadata": {},
   "outputs": [],
   "source": [
    "import pandas as pd"
   ]
  },
  {
   "cell_type": "code",
   "execution_count": 2,
   "metadata": {},
   "outputs": [],
   "source": [
    "grades = pd.read_csv(\"Grades.csv\", index_col='ID')    #skiprows to skip rows at the beginning of the file"
   ]
  },
  {
   "cell_type": "code",
   "execution_count": 3,
   "metadata": {},
   "outputs": [
    {
     "data": {
      "text/html": [
       "<div>\n",
       "<style scoped>\n",
       "    .dataframe tbody tr th:only-of-type {\n",
       "        vertical-align: middle;\n",
       "    }\n",
       "\n",
       "    .dataframe tbody tr th {\n",
       "        vertical-align: top;\n",
       "    }\n",
       "\n",
       "    .dataframe thead th {\n",
       "        text-align: right;\n",
       "    }\n",
       "</style>\n",
       "<table border=\"1\" class=\"dataframe\">\n",
       "  <thead>\n",
       "    <tr style=\"text-align: right;\">\n",
       "      <th></th>\n",
       "      <th>Name</th>\n",
       "      <th>Class</th>\n",
       "      <th>Mathematics</th>\n",
       "      <th>English</th>\n",
       "      <th>Physics</th>\n",
       "    </tr>\n",
       "    <tr>\n",
       "      <th>ID</th>\n",
       "      <th></th>\n",
       "      <th></th>\n",
       "      <th></th>\n",
       "      <th></th>\n",
       "      <th></th>\n",
       "    </tr>\n",
       "  </thead>\n",
       "  <tbody>\n",
       "    <tr>\n",
       "      <th>6104060</th>\n",
       "      <td>Mahmoud</td>\n",
       "      <td>A</td>\n",
       "      <td>46</td>\n",
       "      <td>42</td>\n",
       "      <td>48</td>\n",
       "    </tr>\n",
       "    <tr>\n",
       "      <th>6104061</th>\n",
       "      <td>Gasser</td>\n",
       "      <td>A</td>\n",
       "      <td>42</td>\n",
       "      <td>45</td>\n",
       "      <td>41</td>\n",
       "    </tr>\n",
       "    <tr>\n",
       "      <th>6104062</th>\n",
       "      <td>Zeina</td>\n",
       "      <td>B</td>\n",
       "      <td>39</td>\n",
       "      <td>36</td>\n",
       "      <td>42</td>\n",
       "    </tr>\n",
       "    <tr>\n",
       "      <th>6104063</th>\n",
       "      <td>Dalia</td>\n",
       "      <td>A</td>\n",
       "      <td>46</td>\n",
       "      <td>41</td>\n",
       "      <td>35</td>\n",
       "    </tr>\n",
       "    <tr>\n",
       "      <th>6104064</th>\n",
       "      <td>Nabil</td>\n",
       "      <td>B</td>\n",
       "      <td>43</td>\n",
       "      <td>45</td>\n",
       "      <td>47</td>\n",
       "    </tr>\n",
       "    <tr>\n",
       "      <th>6104065</th>\n",
       "      <td>Mahy</td>\n",
       "      <td>B</td>\n",
       "      <td>37</td>\n",
       "      <td>39</td>\n",
       "      <td>38</td>\n",
       "    </tr>\n",
       "    <tr>\n",
       "      <th>6104066</th>\n",
       "      <td>Karim</td>\n",
       "      <td>B</td>\n",
       "      <td>26</td>\n",
       "      <td>44</td>\n",
       "      <td>37</td>\n",
       "    </tr>\n",
       "    <tr>\n",
       "      <th>6104067</th>\n",
       "      <td>Rania</td>\n",
       "      <td>A</td>\n",
       "      <td>49</td>\n",
       "      <td>42</td>\n",
       "      <td>46</td>\n",
       "    </tr>\n",
       "  </tbody>\n",
       "</table>\n",
       "</div>"
      ],
      "text/plain": [
       "            Name Class  Mathematics  English  Physics\n",
       "ID                                                   \n",
       "6104060  Mahmoud     A           46       42       48\n",
       "6104061   Gasser     A           42       45       41\n",
       "6104062    Zeina     B           39       36       42\n",
       "6104063    Dalia     A           46       41       35\n",
       "6104064    Nabil     B           43       45       47\n",
       "6104065     Mahy     B           37       39       38\n",
       "6104066    Karim     B           26       44       37\n",
       "6104067    Rania     A           49       42       46"
      ]
     },
     "execution_count": 3,
     "metadata": {},
     "output_type": "execute_result"
    }
   ],
   "source": [
    "grades"
   ]
  },
  {
   "cell_type": "code",
   "execution_count": 4,
   "metadata": {},
   "outputs": [
    {
     "name": "stdout",
     "output_type": "stream",
     "text": [
      "Name           Zeina\n",
      "Class              B\n",
      "Mathematics       39\n",
      "English           36\n",
      "Physics           42\n",
      "Name: 6104062, dtype: object\n"
     ]
    }
   ],
   "source": [
    "student = grades.loc[6104062]    # numbers are not treated as string in 'loc'\n",
    "print(student)"
   ]
  },
  {
   "cell_type": "code",
   "execution_count": 5,
   "metadata": {},
   "outputs": [
    {
     "data": {
      "text/plain": [
       "pandas.core.series.Series"
      ]
     },
     "execution_count": 5,
     "metadata": {},
     "output_type": "execute_result"
    }
   ],
   "source": [
    "type(student)"
   ]
  },
  {
   "cell_type": "code",
   "execution_count": 6,
   "metadata": {},
   "outputs": [
    {
     "name": "stdout",
     "output_type": "stream",
     "text": [
      "Zeina\n"
     ]
    }
   ],
   "source": [
    "print(student['Name'])"
   ]
  },
  {
   "cell_type": "code",
   "execution_count": 7,
   "metadata": {},
   "outputs": [],
   "source": [
    "studentname = grades.loc[6104062, 'Name']    # to print the name directly"
   ]
  },
  {
   "cell_type": "code",
   "execution_count": 8,
   "metadata": {},
   "outputs": [
    {
     "data": {
      "text/plain": [
       "'Zeina'"
      ]
     },
     "execution_count": 8,
     "metadata": {},
     "output_type": "execute_result"
    }
   ],
   "source": [
    "studentname"
   ]
  },
  {
   "cell_type": "code",
   "execution_count": 9,
   "metadata": {},
   "outputs": [],
   "source": [
    "grades.loc[[6104065,6104067],['Mathematics','English']] = [[38, 39], [45, 43]]"
   ]
  },
  {
   "cell_type": "code",
   "execution_count": 16,
   "metadata": {},
   "outputs": [
    {
     "data": {
      "text/html": [
       "<div>\n",
       "<style scoped>\n",
       "    .dataframe tbody tr th:only-of-type {\n",
       "        vertical-align: middle;\n",
       "    }\n",
       "\n",
       "    .dataframe tbody tr th {\n",
       "        vertical-align: top;\n",
       "    }\n",
       "\n",
       "    .dataframe thead th {\n",
       "        text-align: right;\n",
       "    }\n",
       "</style>\n",
       "<table border=\"1\" class=\"dataframe\">\n",
       "  <thead>\n",
       "    <tr style=\"text-align: right;\">\n",
       "      <th></th>\n",
       "      <th>Class</th>\n",
       "      <th>Mathematics</th>\n",
       "      <th>English</th>\n",
       "      <th>Physics</th>\n",
       "    </tr>\n",
       "    <tr>\n",
       "      <th>ID</th>\n",
       "      <th></th>\n",
       "      <th></th>\n",
       "      <th></th>\n",
       "      <th></th>\n",
       "    </tr>\n",
       "  </thead>\n",
       "  <tbody>\n",
       "    <tr>\n",
       "      <th>6104060</th>\n",
       "      <td>A</td>\n",
       "      <td>46</td>\n",
       "      <td>42</td>\n",
       "      <td>48</td>\n",
       "    </tr>\n",
       "    <tr>\n",
       "      <th>6104061</th>\n",
       "      <td>A</td>\n",
       "      <td>42</td>\n",
       "      <td>45</td>\n",
       "      <td>41</td>\n",
       "    </tr>\n",
       "    <tr>\n",
       "      <th>6104062</th>\n",
       "      <td>B</td>\n",
       "      <td>39</td>\n",
       "      <td>36</td>\n",
       "      <td>42</td>\n",
       "    </tr>\n",
       "    <tr>\n",
       "      <th>6104063</th>\n",
       "      <td>A</td>\n",
       "      <td>46</td>\n",
       "      <td>41</td>\n",
       "      <td>35</td>\n",
       "    </tr>\n",
       "    <tr>\n",
       "      <th>6104064</th>\n",
       "      <td>B</td>\n",
       "      <td>43</td>\n",
       "      <td>45</td>\n",
       "      <td>47</td>\n",
       "    </tr>\n",
       "    <tr>\n",
       "      <th>6104065</th>\n",
       "      <td>B</td>\n",
       "      <td>38</td>\n",
       "      <td>39</td>\n",
       "      <td>38</td>\n",
       "    </tr>\n",
       "    <tr>\n",
       "      <th>6104066</th>\n",
       "      <td>B</td>\n",
       "      <td>26</td>\n",
       "      <td>44</td>\n",
       "      <td>37</td>\n",
       "    </tr>\n",
       "    <tr>\n",
       "      <th>6104067</th>\n",
       "      <td>A</td>\n",
       "      <td>45</td>\n",
       "      <td>43</td>\n",
       "      <td>46</td>\n",
       "    </tr>\n",
       "  </tbody>\n",
       "</table>\n",
       "</div>"
      ],
      "text/plain": [
       "        Class  Mathematics  English  Physics\n",
       "ID                                          \n",
       "6104060     A           46       42       48\n",
       "6104061     A           42       45       41\n",
       "6104062     B           39       36       42\n",
       "6104063     A           46       41       35\n",
       "6104064     B           43       45       47\n",
       "6104065     B           38       39       38\n",
       "6104066     B           26       44       37\n",
       "6104067     A           45       43       46"
      ]
     },
     "execution_count": 16,
     "metadata": {},
     "output_type": "execute_result"
    }
   ],
   "source": [
    "grades[['Class', 'Mathematics', 'English', 'Physics']]"
   ]
  },
  {
   "cell_type": "code",
   "execution_count": 17,
   "metadata": {},
   "outputs": [
    {
     "data": {
      "text/html": [
       "<div>\n",
       "<style scoped>\n",
       "    .dataframe tbody tr th:only-of-type {\n",
       "        vertical-align: middle;\n",
       "    }\n",
       "\n",
       "    .dataframe tbody tr th {\n",
       "        vertical-align: top;\n",
       "    }\n",
       "\n",
       "    .dataframe thead th {\n",
       "        text-align: right;\n",
       "    }\n",
       "</style>\n",
       "<table border=\"1\" class=\"dataframe\">\n",
       "  <thead>\n",
       "    <tr style=\"text-align: right;\">\n",
       "      <th></th>\n",
       "      <th>Class</th>\n",
       "      <th>Mathematics</th>\n",
       "      <th>English</th>\n",
       "      <th>Physics</th>\n",
       "    </tr>\n",
       "    <tr>\n",
       "      <th>ID</th>\n",
       "      <th></th>\n",
       "      <th></th>\n",
       "      <th></th>\n",
       "      <th></th>\n",
       "    </tr>\n",
       "  </thead>\n",
       "  <tbody>\n",
       "    <tr>\n",
       "      <th>6104060</th>\n",
       "      <td>A</td>\n",
       "      <td>46</td>\n",
       "      <td>42</td>\n",
       "      <td>48</td>\n",
       "    </tr>\n",
       "    <tr>\n",
       "      <th>6104061</th>\n",
       "      <td>A</td>\n",
       "      <td>42</td>\n",
       "      <td>45</td>\n",
       "      <td>41</td>\n",
       "    </tr>\n",
       "    <tr>\n",
       "      <th>6104062</th>\n",
       "      <td>B</td>\n",
       "      <td>39</td>\n",
       "      <td>36</td>\n",
       "      <td>42</td>\n",
       "    </tr>\n",
       "    <tr>\n",
       "      <th>6104063</th>\n",
       "      <td>A</td>\n",
       "      <td>46</td>\n",
       "      <td>41</td>\n",
       "      <td>35</td>\n",
       "    </tr>\n",
       "    <tr>\n",
       "      <th>6104064</th>\n",
       "      <td>B</td>\n",
       "      <td>43</td>\n",
       "      <td>45</td>\n",
       "      <td>47</td>\n",
       "    </tr>\n",
       "    <tr>\n",
       "      <th>6104065</th>\n",
       "      <td>B</td>\n",
       "      <td>38</td>\n",
       "      <td>39</td>\n",
       "      <td>38</td>\n",
       "    </tr>\n",
       "    <tr>\n",
       "      <th>6104066</th>\n",
       "      <td>B</td>\n",
       "      <td>26</td>\n",
       "      <td>44</td>\n",
       "      <td>37</td>\n",
       "    </tr>\n",
       "    <tr>\n",
       "      <th>6104067</th>\n",
       "      <td>A</td>\n",
       "      <td>45</td>\n",
       "      <td>43</td>\n",
       "      <td>46</td>\n",
       "    </tr>\n",
       "  </tbody>\n",
       "</table>\n",
       "</div>"
      ],
      "text/plain": [
       "        Class  Mathematics  English  Physics\n",
       "ID                                          \n",
       "6104060     A           46       42       48\n",
       "6104061     A           42       45       41\n",
       "6104062     B           39       36       42\n",
       "6104063     A           46       41       35\n",
       "6104064     B           43       45       47\n",
       "6104065     B           38       39       38\n",
       "6104066     B           26       44       37\n",
       "6104067     A           45       43       46"
      ]
     },
     "execution_count": 17,
     "metadata": {},
     "output_type": "execute_result"
    }
   ],
   "source": [
    "grades.drop('Name',axis=1,inplace=True)\n",
    "grades    # changes the dataframe, inplace is True"
   ]
  },
  {
   "cell_type": "code",
   "execution_count": 18,
   "metadata": {},
   "outputs": [
    {
     "data": {
      "text/html": [
       "<div>\n",
       "<style scoped>\n",
       "    .dataframe tbody tr th:only-of-type {\n",
       "        vertical-align: middle;\n",
       "    }\n",
       "\n",
       "    .dataframe tbody tr th {\n",
       "        vertical-align: top;\n",
       "    }\n",
       "\n",
       "    .dataframe thead th {\n",
       "        text-align: right;\n",
       "    }\n",
       "</style>\n",
       "<table border=\"1\" class=\"dataframe\">\n",
       "  <thead>\n",
       "    <tr style=\"text-align: right;\">\n",
       "      <th></th>\n",
       "      <th>Class</th>\n",
       "      <th>Mathematics</th>\n",
       "      <th>English</th>\n",
       "      <th>Physics</th>\n",
       "      <th>Total [%]</th>\n",
       "    </tr>\n",
       "    <tr>\n",
       "      <th>ID</th>\n",
       "      <th></th>\n",
       "      <th></th>\n",
       "      <th></th>\n",
       "      <th></th>\n",
       "      <th></th>\n",
       "    </tr>\n",
       "  </thead>\n",
       "  <tbody>\n",
       "    <tr>\n",
       "      <th>6104060</th>\n",
       "      <td>A</td>\n",
       "      <td>46</td>\n",
       "      <td>42</td>\n",
       "      <td>48</td>\n",
       "      <td>90.666667</td>\n",
       "    </tr>\n",
       "    <tr>\n",
       "      <th>6104061</th>\n",
       "      <td>A</td>\n",
       "      <td>42</td>\n",
       "      <td>45</td>\n",
       "      <td>41</td>\n",
       "      <td>85.333333</td>\n",
       "    </tr>\n",
       "    <tr>\n",
       "      <th>6104062</th>\n",
       "      <td>B</td>\n",
       "      <td>39</td>\n",
       "      <td>36</td>\n",
       "      <td>42</td>\n",
       "      <td>78.000000</td>\n",
       "    </tr>\n",
       "    <tr>\n",
       "      <th>6104063</th>\n",
       "      <td>A</td>\n",
       "      <td>46</td>\n",
       "      <td>41</td>\n",
       "      <td>35</td>\n",
       "      <td>81.333333</td>\n",
       "    </tr>\n",
       "    <tr>\n",
       "      <th>6104064</th>\n",
       "      <td>B</td>\n",
       "      <td>43</td>\n",
       "      <td>45</td>\n",
       "      <td>47</td>\n",
       "      <td>90.000000</td>\n",
       "    </tr>\n",
       "    <tr>\n",
       "      <th>6104065</th>\n",
       "      <td>B</td>\n",
       "      <td>38</td>\n",
       "      <td>39</td>\n",
       "      <td>38</td>\n",
       "      <td>76.666667</td>\n",
       "    </tr>\n",
       "    <tr>\n",
       "      <th>6104066</th>\n",
       "      <td>B</td>\n",
       "      <td>26</td>\n",
       "      <td>44</td>\n",
       "      <td>37</td>\n",
       "      <td>71.333333</td>\n",
       "    </tr>\n",
       "    <tr>\n",
       "      <th>6104067</th>\n",
       "      <td>A</td>\n",
       "      <td>45</td>\n",
       "      <td>43</td>\n",
       "      <td>46</td>\n",
       "      <td>89.333333</td>\n",
       "    </tr>\n",
       "  </tbody>\n",
       "</table>\n",
       "</div>"
      ],
      "text/plain": [
       "        Class  Mathematics  English  Physics  Total [%]\n",
       "ID                                                     \n",
       "6104060     A           46       42       48  90.666667\n",
       "6104061     A           42       45       41  85.333333\n",
       "6104062     B           39       36       42  78.000000\n",
       "6104063     A           46       41       35  81.333333\n",
       "6104064     B           43       45       47  90.000000\n",
       "6104065     B           38       39       38  76.666667\n",
       "6104066     B           26       44       37  71.333333\n",
       "6104067     A           45       43       46  89.333333"
      ]
     },
     "execution_count": 18,
     "metadata": {},
     "output_type": "execute_result"
    }
   ],
   "source": [
    "grades['Total [%]'] = ((grades['Mathematics'] + grades['English'] + grades['Physics'])/150) * 100   # round(x, 2)\n",
    "grades"
   ]
  },
  {
   "cell_type": "code",
   "execution_count": 22,
   "metadata": {},
   "outputs": [
    {
     "data": {
      "text/html": [
       "<div>\n",
       "<style scoped>\n",
       "    .dataframe tbody tr th:only-of-type {\n",
       "        vertical-align: middle;\n",
       "    }\n",
       "\n",
       "    .dataframe tbody tr th {\n",
       "        vertical-align: top;\n",
       "    }\n",
       "\n",
       "    .dataframe thead th {\n",
       "        text-align: right;\n",
       "    }\n",
       "</style>\n",
       "<table border=\"1\" class=\"dataframe\">\n",
       "  <thead>\n",
       "    <tr style=\"text-align: right;\">\n",
       "      <th></th>\n",
       "      <th>Class</th>\n",
       "      <th>Mathematics</th>\n",
       "      <th>English</th>\n",
       "      <th>Physics</th>\n",
       "      <th>Total [%]</th>\n",
       "    </tr>\n",
       "    <tr>\n",
       "      <th>ID</th>\n",
       "      <th></th>\n",
       "      <th></th>\n",
       "      <th></th>\n",
       "      <th></th>\n",
       "      <th></th>\n",
       "    </tr>\n",
       "  </thead>\n",
       "  <tbody>\n",
       "    <tr>\n",
       "      <th>6104060</th>\n",
       "      <td>A</td>\n",
       "      <td>46</td>\n",
       "      <td>42</td>\n",
       "      <td>48</td>\n",
       "      <td>90.67</td>\n",
       "    </tr>\n",
       "    <tr>\n",
       "      <th>6104061</th>\n",
       "      <td>A</td>\n",
       "      <td>42</td>\n",
       "      <td>45</td>\n",
       "      <td>41</td>\n",
       "      <td>85.33</td>\n",
       "    </tr>\n",
       "    <tr>\n",
       "      <th>6104062</th>\n",
       "      <td>B</td>\n",
       "      <td>39</td>\n",
       "      <td>36</td>\n",
       "      <td>42</td>\n",
       "      <td>78.00</td>\n",
       "    </tr>\n",
       "    <tr>\n",
       "      <th>6104063</th>\n",
       "      <td>A</td>\n",
       "      <td>46</td>\n",
       "      <td>41</td>\n",
       "      <td>35</td>\n",
       "      <td>81.33</td>\n",
       "    </tr>\n",
       "    <tr>\n",
       "      <th>6104064</th>\n",
       "      <td>B</td>\n",
       "      <td>43</td>\n",
       "      <td>45</td>\n",
       "      <td>47</td>\n",
       "      <td>90.00</td>\n",
       "    </tr>\n",
       "    <tr>\n",
       "      <th>6104065</th>\n",
       "      <td>B</td>\n",
       "      <td>38</td>\n",
       "      <td>39</td>\n",
       "      <td>38</td>\n",
       "      <td>76.67</td>\n",
       "    </tr>\n",
       "    <tr>\n",
       "      <th>6104066</th>\n",
       "      <td>B</td>\n",
       "      <td>26</td>\n",
       "      <td>44</td>\n",
       "      <td>37</td>\n",
       "      <td>71.33</td>\n",
       "    </tr>\n",
       "    <tr>\n",
       "      <th>6104067</th>\n",
       "      <td>A</td>\n",
       "      <td>45</td>\n",
       "      <td>43</td>\n",
       "      <td>46</td>\n",
       "      <td>89.33</td>\n",
       "    </tr>\n",
       "  </tbody>\n",
       "</table>\n",
       "</div>"
      ],
      "text/plain": [
       "        Class  Mathematics  English  Physics  Total [%]\n",
       "ID                                                     \n",
       "6104060     A           46       42       48      90.67\n",
       "6104061     A           42       45       41      85.33\n",
       "6104062     B           39       36       42      78.00\n",
       "6104063     A           46       41       35      81.33\n",
       "6104064     B           43       45       47      90.00\n",
       "6104065     B           38       39       38      76.67\n",
       "6104066     B           26       44       37      71.33\n",
       "6104067     A           45       43       46      89.33"
      ]
     },
     "execution_count": 22,
     "metadata": {},
     "output_type": "execute_result"
    }
   ],
   "source": [
    "grades['Total [%]'] = round(grades['Total [%]'], 2)\n",
    "grades"
   ]
  },
  {
   "cell_type": "markdown",
   "metadata": {},
   "source": [
    "**Arithmetic Operations**"
   ]
  },
  {
   "cell_type": "code",
   "execution_count": 23,
   "metadata": {},
   "outputs": [
    {
     "data": {
      "text/plain": [
       "90.67"
      ]
     },
     "execution_count": 23,
     "metadata": {},
     "output_type": "execute_result"
    }
   ],
   "source": [
    "maxGrade = grades['Total [%]'].max() # same for mean, min, count, sum, std, ..\n",
    "maxGrade"
   ]
  },
  {
   "cell_type": "code",
   "execution_count": 24,
   "metadata": {},
   "outputs": [
    {
     "data": {
      "text/html": [
       "<div>\n",
       "<style scoped>\n",
       "    .dataframe tbody tr th:only-of-type {\n",
       "        vertical-align: middle;\n",
       "    }\n",
       "\n",
       "    .dataframe tbody tr th {\n",
       "        vertical-align: top;\n",
       "    }\n",
       "\n",
       "    .dataframe thead th {\n",
       "        text-align: right;\n",
       "    }\n",
       "</style>\n",
       "<table border=\"1\" class=\"dataframe\">\n",
       "  <thead>\n",
       "    <tr style=\"text-align: right;\">\n",
       "      <th></th>\n",
       "      <th>Mathematics</th>\n",
       "      <th>English</th>\n",
       "      <th>Physics</th>\n",
       "      <th>Total [%]</th>\n",
       "    </tr>\n",
       "  </thead>\n",
       "  <tbody>\n",
       "    <tr>\n",
       "      <th>count</th>\n",
       "      <td>8.000000</td>\n",
       "      <td>8.000000</td>\n",
       "      <td>8.000000</td>\n",
       "      <td>8.000000</td>\n",
       "    </tr>\n",
       "    <tr>\n",
       "      <th>mean</th>\n",
       "      <td>40.625000</td>\n",
       "      <td>41.875000</td>\n",
       "      <td>41.750000</td>\n",
       "      <td>82.832500</td>\n",
       "    </tr>\n",
       "    <tr>\n",
       "      <th>std</th>\n",
       "      <td>6.631903</td>\n",
       "      <td>3.136764</td>\n",
       "      <td>4.891684</td>\n",
       "      <td>7.142918</td>\n",
       "    </tr>\n",
       "    <tr>\n",
       "      <th>min</th>\n",
       "      <td>26.000000</td>\n",
       "      <td>36.000000</td>\n",
       "      <td>35.000000</td>\n",
       "      <td>71.330000</td>\n",
       "    </tr>\n",
       "    <tr>\n",
       "      <th>25%</th>\n",
       "      <td>38.750000</td>\n",
       "      <td>40.500000</td>\n",
       "      <td>37.750000</td>\n",
       "      <td>77.667500</td>\n",
       "    </tr>\n",
       "    <tr>\n",
       "      <th>50%</th>\n",
       "      <td>42.500000</td>\n",
       "      <td>42.500000</td>\n",
       "      <td>41.500000</td>\n",
       "      <td>83.330000</td>\n",
       "    </tr>\n",
       "    <tr>\n",
       "      <th>75%</th>\n",
       "      <td>45.250000</td>\n",
       "      <td>44.250000</td>\n",
       "      <td>46.250000</td>\n",
       "      <td>89.497500</td>\n",
       "    </tr>\n",
       "    <tr>\n",
       "      <th>max</th>\n",
       "      <td>46.000000</td>\n",
       "      <td>45.000000</td>\n",
       "      <td>48.000000</td>\n",
       "      <td>90.670000</td>\n",
       "    </tr>\n",
       "  </tbody>\n",
       "</table>\n",
       "</div>"
      ],
      "text/plain": [
       "       Mathematics    English    Physics  Total [%]\n",
       "count     8.000000   8.000000   8.000000   8.000000\n",
       "mean     40.625000  41.875000  41.750000  82.832500\n",
       "std       6.631903   3.136764   4.891684   7.142918\n",
       "min      26.000000  36.000000  35.000000  71.330000\n",
       "25%      38.750000  40.500000  37.750000  77.667500\n",
       "50%      42.500000  42.500000  41.500000  83.330000\n",
       "75%      45.250000  44.250000  46.250000  89.497500\n",
       "max      46.000000  45.000000  48.000000  90.670000"
      ]
     },
     "execution_count": 24,
     "metadata": {},
     "output_type": "execute_result"
    }
   ],
   "source": [
    "grades.describe()"
   ]
  },
  {
   "cell_type": "markdown",
   "metadata": {},
   "source": [
    "**Conditional statements**"
   ]
  },
  {
   "cell_type": "code",
   "execution_count": 25,
   "metadata": {},
   "outputs": [
    {
     "data": {
      "text/html": [
       "<div>\n",
       "<style scoped>\n",
       "    .dataframe tbody tr th:only-of-type {\n",
       "        vertical-align: middle;\n",
       "    }\n",
       "\n",
       "    .dataframe tbody tr th {\n",
       "        vertical-align: top;\n",
       "    }\n",
       "\n",
       "    .dataframe thead th {\n",
       "        text-align: right;\n",
       "    }\n",
       "</style>\n",
       "<table border=\"1\" class=\"dataframe\">\n",
       "  <thead>\n",
       "    <tr style=\"text-align: right;\">\n",
       "      <th></th>\n",
       "      <th>Class</th>\n",
       "      <th>Mathematics</th>\n",
       "      <th>English</th>\n",
       "      <th>Physics</th>\n",
       "      <th>Total [%]</th>\n",
       "    </tr>\n",
       "    <tr>\n",
       "      <th>ID</th>\n",
       "      <th></th>\n",
       "      <th></th>\n",
       "      <th></th>\n",
       "      <th></th>\n",
       "      <th></th>\n",
       "    </tr>\n",
       "  </thead>\n",
       "  <tbody>\n",
       "    <tr>\n",
       "      <th>6104066</th>\n",
       "      <td>B</td>\n",
       "      <td>26</td>\n",
       "      <td>44</td>\n",
       "      <td>37</td>\n",
       "      <td>71.33</td>\n",
       "    </tr>\n",
       "  </tbody>\n",
       "</table>\n",
       "</div>"
      ],
      "text/plain": [
       "        Class  Mathematics  English  Physics  Total [%]\n",
       "ID                                                     \n",
       "6104066     B           26       44       37      71.33"
      ]
     },
     "execution_count": 25,
     "metadata": {},
     "output_type": "execute_result"
    }
   ],
   "source": [
    "grades.loc[grades['Total [%]'] <= 75]    # also can be done specifying a row and a column > add \", 'Class'\""
   ]
  },
  {
   "cell_type": "code",
   "execution_count": 26,
   "metadata": {},
   "outputs": [
    {
     "data": {
      "text/html": [
       "<div>\n",
       "<style scoped>\n",
       "    .dataframe tbody tr th:only-of-type {\n",
       "        vertical-align: middle;\n",
       "    }\n",
       "\n",
       "    .dataframe tbody tr th {\n",
       "        vertical-align: top;\n",
       "    }\n",
       "\n",
       "    .dataframe thead th {\n",
       "        text-align: right;\n",
       "    }\n",
       "</style>\n",
       "<table border=\"1\" class=\"dataframe\">\n",
       "  <thead>\n",
       "    <tr style=\"text-align: right;\">\n",
       "      <th></th>\n",
       "      <th>Class</th>\n",
       "      <th>Mathematics</th>\n",
       "      <th>English</th>\n",
       "      <th>Physics</th>\n",
       "      <th>Total [%]</th>\n",
       "    </tr>\n",
       "    <tr>\n",
       "      <th>ID</th>\n",
       "      <th></th>\n",
       "      <th></th>\n",
       "      <th></th>\n",
       "      <th></th>\n",
       "      <th></th>\n",
       "    </tr>\n",
       "  </thead>\n",
       "  <tbody>\n",
       "    <tr>\n",
       "      <th>6104060</th>\n",
       "      <td>A</td>\n",
       "      <td>46</td>\n",
       "      <td>42</td>\n",
       "      <td>48</td>\n",
       "      <td>90.67</td>\n",
       "    </tr>\n",
       "    <tr>\n",
       "      <th>6104061</th>\n",
       "      <td>A</td>\n",
       "      <td>42</td>\n",
       "      <td>45</td>\n",
       "      <td>41</td>\n",
       "      <td>85.33</td>\n",
       "    </tr>\n",
       "    <tr>\n",
       "      <th>6104064</th>\n",
       "      <td>B</td>\n",
       "      <td>43</td>\n",
       "      <td>45</td>\n",
       "      <td>47</td>\n",
       "      <td>90.00</td>\n",
       "    </tr>\n",
       "    <tr>\n",
       "      <th>6104067</th>\n",
       "      <td>A</td>\n",
       "      <td>45</td>\n",
       "      <td>43</td>\n",
       "      <td>46</td>\n",
       "      <td>89.33</td>\n",
       "    </tr>\n",
       "  </tbody>\n",
       "</table>\n",
       "</div>"
      ],
      "text/plain": [
       "        Class  Mathematics  English  Physics  Total [%]\n",
       "ID                                                     \n",
       "6104060     A           46       42       48      90.67\n",
       "6104061     A           42       45       41      85.33\n",
       "6104064     B           43       45       47      90.00\n",
       "6104067     A           45       43       46      89.33"
      ]
     },
     "execution_count": 26,
     "metadata": {},
     "output_type": "execute_result"
    }
   ],
   "source": [
    "grades[grades['Total [%]'] >= 85]"
   ]
  },
  {
   "cell_type": "code",
   "execution_count": 22,
   "metadata": {},
   "outputs": [
    {
     "data": {
      "text/html": [
       "<div>\n",
       "<style scoped>\n",
       "    .dataframe tbody tr th:only-of-type {\n",
       "        vertical-align: middle;\n",
       "    }\n",
       "\n",
       "    .dataframe tbody tr th {\n",
       "        vertical-align: top;\n",
       "    }\n",
       "\n",
       "    .dataframe thead th {\n",
       "        text-align: right;\n",
       "    }\n",
       "</style>\n",
       "<table border=\"1\" class=\"dataframe\">\n",
       "  <thead>\n",
       "    <tr style=\"text-align: right;\">\n",
       "      <th></th>\n",
       "      <th>Class</th>\n",
       "      <th>Mathematics</th>\n",
       "      <th>English</th>\n",
       "      <th>Physics</th>\n",
       "      <th>Total [%]</th>\n",
       "    </tr>\n",
       "    <tr>\n",
       "      <th>ID</th>\n",
       "      <th></th>\n",
       "      <th></th>\n",
       "      <th></th>\n",
       "      <th></th>\n",
       "      <th></th>\n",
       "    </tr>\n",
       "  </thead>\n",
       "  <tbody>\n",
       "    <tr>\n",
       "      <th>6104062</th>\n",
       "      <td>B</td>\n",
       "      <td>39</td>\n",
       "      <td>36</td>\n",
       "      <td>42</td>\n",
       "      <td>78.000000</td>\n",
       "    </tr>\n",
       "    <tr>\n",
       "      <th>6104063</th>\n",
       "      <td>A</td>\n",
       "      <td>46</td>\n",
       "      <td>41</td>\n",
       "      <td>35</td>\n",
       "      <td>81.333333</td>\n",
       "    </tr>\n",
       "    <tr>\n",
       "      <th>6104065</th>\n",
       "      <td>B</td>\n",
       "      <td>38</td>\n",
       "      <td>39</td>\n",
       "      <td>38</td>\n",
       "      <td>76.666667</td>\n",
       "    </tr>\n",
       "  </tbody>\n",
       "</table>\n",
       "</div>"
      ],
      "text/plain": [
       "        Class  Mathematics  English  Physics  Total [%]\n",
       "ID                                                     \n",
       "6104062     B           39       36       42  78.000000\n",
       "6104063     A           46       41       35  81.333333\n",
       "6104065     B           38       39       38  76.666667"
      ]
     },
     "execution_count": 22,
     "metadata": {},
     "output_type": "execute_result"
    }
   ],
   "source": [
    "grades[(grades['Total [%]'] < 85) & (grades['Total [%]'] > 75)]    #for or use |"
   ]
  },
  {
   "cell_type": "markdown",
   "metadata": {},
   "source": [
    "**Exercise 8**\n",
    "\n",
    "- Print students who scored less than 30 marks in any of the subjects.\n",
    "- Print the highest score for each subject.\n",
    "- Print the students with the highest subject grade."
   ]
  },
  {
   "cell_type": "code",
   "execution_count": 28,
   "metadata": {},
   "outputs": [
    {
     "data": {
      "text/html": [
       "<div>\n",
       "<style scoped>\n",
       "    .dataframe tbody tr th:only-of-type {\n",
       "        vertical-align: middle;\n",
       "    }\n",
       "\n",
       "    .dataframe tbody tr th {\n",
       "        vertical-align: top;\n",
       "    }\n",
       "\n",
       "    .dataframe thead th {\n",
       "        text-align: right;\n",
       "    }\n",
       "</style>\n",
       "<table border=\"1\" class=\"dataframe\">\n",
       "  <thead>\n",
       "    <tr style=\"text-align: right;\">\n",
       "      <th></th>\n",
       "      <th>Class</th>\n",
       "      <th>Mathematics</th>\n",
       "      <th>English</th>\n",
       "      <th>Physics</th>\n",
       "      <th>Total [%]</th>\n",
       "    </tr>\n",
       "    <tr>\n",
       "      <th>ID</th>\n",
       "      <th></th>\n",
       "      <th></th>\n",
       "      <th></th>\n",
       "      <th></th>\n",
       "      <th></th>\n",
       "    </tr>\n",
       "  </thead>\n",
       "  <tbody>\n",
       "    <tr>\n",
       "      <th>6104066</th>\n",
       "      <td>B</td>\n",
       "      <td>26</td>\n",
       "      <td>44</td>\n",
       "      <td>37</td>\n",
       "      <td>71.33</td>\n",
       "    </tr>\n",
       "  </tbody>\n",
       "</table>\n",
       "</div>"
      ],
      "text/plain": [
       "        Class  Mathematics  English  Physics  Total [%]\n",
       "ID                                                     \n",
       "6104066     B           26       44       37      71.33"
      ]
     },
     "execution_count": 28,
     "metadata": {},
     "output_type": "execute_result"
    }
   ],
   "source": [
    "grades[(grades['Mathematics'] <= 30) | (grades['Physics'] <= 30) | (grades['English'] <= 30)] "
   ]
  },
  {
   "cell_type": "code",
   "execution_count": 24,
   "metadata": {},
   "outputs": [
    {
     "data": {
      "text/html": [
       "<div>\n",
       "<style scoped>\n",
       "    .dataframe tbody tr th:only-of-type {\n",
       "        vertical-align: middle;\n",
       "    }\n",
       "\n",
       "    .dataframe tbody tr th {\n",
       "        vertical-align: top;\n",
       "    }\n",
       "\n",
       "    .dataframe thead th {\n",
       "        text-align: right;\n",
       "    }\n",
       "</style>\n",
       "<table border=\"1\" class=\"dataframe\">\n",
       "  <thead>\n",
       "    <tr style=\"text-align: right;\">\n",
       "      <th></th>\n",
       "      <th>Class</th>\n",
       "      <th>Mathematics</th>\n",
       "      <th>English</th>\n",
       "      <th>Physics</th>\n",
       "      <th>Total [%]</th>\n",
       "    </tr>\n",
       "    <tr>\n",
       "      <th>ID</th>\n",
       "      <th></th>\n",
       "      <th></th>\n",
       "      <th></th>\n",
       "      <th></th>\n",
       "      <th></th>\n",
       "    </tr>\n",
       "  </thead>\n",
       "  <tbody>\n",
       "    <tr>\n",
       "      <th>6104060</th>\n",
       "      <td>NaN</td>\n",
       "      <td>NaN</td>\n",
       "      <td>NaN</td>\n",
       "      <td>NaN</td>\n",
       "      <td>NaN</td>\n",
       "    </tr>\n",
       "    <tr>\n",
       "      <th>6104061</th>\n",
       "      <td>NaN</td>\n",
       "      <td>NaN</td>\n",
       "      <td>NaN</td>\n",
       "      <td>NaN</td>\n",
       "      <td>NaN</td>\n",
       "    </tr>\n",
       "    <tr>\n",
       "      <th>6104062</th>\n",
       "      <td>NaN</td>\n",
       "      <td>NaN</td>\n",
       "      <td>NaN</td>\n",
       "      <td>NaN</td>\n",
       "      <td>NaN</td>\n",
       "    </tr>\n",
       "    <tr>\n",
       "      <th>6104063</th>\n",
       "      <td>NaN</td>\n",
       "      <td>NaN</td>\n",
       "      <td>NaN</td>\n",
       "      <td>NaN</td>\n",
       "      <td>NaN</td>\n",
       "    </tr>\n",
       "    <tr>\n",
       "      <th>6104064</th>\n",
       "      <td>NaN</td>\n",
       "      <td>NaN</td>\n",
       "      <td>NaN</td>\n",
       "      <td>NaN</td>\n",
       "      <td>NaN</td>\n",
       "    </tr>\n",
       "    <tr>\n",
       "      <th>6104065</th>\n",
       "      <td>NaN</td>\n",
       "      <td>NaN</td>\n",
       "      <td>NaN</td>\n",
       "      <td>NaN</td>\n",
       "      <td>NaN</td>\n",
       "    </tr>\n",
       "    <tr>\n",
       "      <th>6104066</th>\n",
       "      <td>NaN</td>\n",
       "      <td>26.0</td>\n",
       "      <td>NaN</td>\n",
       "      <td>NaN</td>\n",
       "      <td>NaN</td>\n",
       "    </tr>\n",
       "    <tr>\n",
       "      <th>6104067</th>\n",
       "      <td>NaN</td>\n",
       "      <td>NaN</td>\n",
       "      <td>NaN</td>\n",
       "      <td>NaN</td>\n",
       "      <td>NaN</td>\n",
       "    </tr>\n",
       "  </tbody>\n",
       "</table>\n",
       "</div>"
      ],
      "text/plain": [
       "        Class  Mathematics  English  Physics  Total [%]\n",
       "ID                                                     \n",
       "6104060   NaN          NaN      NaN      NaN        NaN\n",
       "6104061   NaN          NaN      NaN      NaN        NaN\n",
       "6104062   NaN          NaN      NaN      NaN        NaN\n",
       "6104063   NaN          NaN      NaN      NaN        NaN\n",
       "6104064   NaN          NaN      NaN      NaN        NaN\n",
       "6104065   NaN          NaN      NaN      NaN        NaN\n",
       "6104066   NaN         26.0      NaN      NaN        NaN\n",
       "6104067   NaN          NaN      NaN      NaN        NaN"
      ]
     },
     "execution_count": 24,
     "metadata": {},
     "output_type": "execute_result"
    }
   ],
   "source": [
    "# another way\n",
    "gradesle30 = grades[grades.select_dtypes(exclude='object') <= 30]    # exclude strings + filter values larger than 30\n",
    "gradesle30"
   ]
  },
  {
   "cell_type": "code",
   "execution_count": 30,
   "metadata": {},
   "outputs": [
    {
     "data": {
      "text/html": [
       "<div>\n",
       "<style scoped>\n",
       "    .dataframe tbody tr th:only-of-type {\n",
       "        vertical-align: middle;\n",
       "    }\n",
       "\n",
       "    .dataframe tbody tr th {\n",
       "        vertical-align: top;\n",
       "    }\n",
       "\n",
       "    .dataframe thead th {\n",
       "        text-align: right;\n",
       "    }\n",
       "</style>\n",
       "<table border=\"1\" class=\"dataframe\">\n",
       "  <thead>\n",
       "    <tr style=\"text-align: right;\">\n",
       "      <th></th>\n",
       "      <th>Class</th>\n",
       "      <th>Mathematics</th>\n",
       "      <th>English</th>\n",
       "      <th>Physics</th>\n",
       "      <th>Total [%]</th>\n",
       "    </tr>\n",
       "    <tr>\n",
       "      <th>ID</th>\n",
       "      <th></th>\n",
       "      <th></th>\n",
       "      <th></th>\n",
       "      <th></th>\n",
       "      <th></th>\n",
       "    </tr>\n",
       "  </thead>\n",
       "  <tbody>\n",
       "    <tr>\n",
       "      <th>6104066</th>\n",
       "      <td>NaN</td>\n",
       "      <td>26.0</td>\n",
       "      <td>NaN</td>\n",
       "      <td>NaN</td>\n",
       "      <td>NaN</td>\n",
       "    </tr>\n",
       "  </tbody>\n",
       "</table>\n",
       "</div>"
      ],
      "text/plain": [
       "        Class  Mathematics  English  Physics  Total [%]\n",
       "ID                                                     \n",
       "6104066   NaN         26.0      NaN      NaN        NaN"
      ]
     },
     "execution_count": 30,
     "metadata": {},
     "output_type": "execute_result"
    }
   ],
   "source": [
    "gradesle30.dropna(how='all')   # drop all NaN values in gradesle30"
   ]
  },
  {
   "cell_type": "code",
   "execution_count": 25,
   "metadata": {},
   "outputs": [
    {
     "data": {
      "text/plain": [
       "Mathematics    46\n",
       "English        45\n",
       "Physics        48\n",
       "dtype: int64"
      ]
     },
     "execution_count": 25,
     "metadata": {},
     "output_type": "execute_result"
    }
   ],
   "source": [
    "grades[['Mathematics', 'English', 'Physics']].max()"
   ]
  },
  {
   "cell_type": "code",
   "execution_count": 32,
   "metadata": {},
   "outputs": [
    {
     "data": {
      "text/html": [
       "<div>\n",
       "<style scoped>\n",
       "    .dataframe tbody tr th:only-of-type {\n",
       "        vertical-align: middle;\n",
       "    }\n",
       "\n",
       "    .dataframe tbody tr th {\n",
       "        vertical-align: top;\n",
       "    }\n",
       "\n",
       "    .dataframe thead th {\n",
       "        text-align: right;\n",
       "    }\n",
       "</style>\n",
       "<table border=\"1\" class=\"dataframe\">\n",
       "  <thead>\n",
       "    <tr style=\"text-align: right;\">\n",
       "      <th></th>\n",
       "      <th>Class</th>\n",
       "      <th>Mathematics</th>\n",
       "      <th>English</th>\n",
       "      <th>Physics</th>\n",
       "      <th>Total [%]</th>\n",
       "    </tr>\n",
       "    <tr>\n",
       "      <th>ID</th>\n",
       "      <th></th>\n",
       "      <th></th>\n",
       "      <th></th>\n",
       "      <th></th>\n",
       "      <th></th>\n",
       "    </tr>\n",
       "  </thead>\n",
       "  <tbody>\n",
       "    <tr>\n",
       "      <th>6104060</th>\n",
       "      <td>A</td>\n",
       "      <td>46</td>\n",
       "      <td>42</td>\n",
       "      <td>48</td>\n",
       "      <td>90.67</td>\n",
       "    </tr>\n",
       "    <tr>\n",
       "      <th>6104061</th>\n",
       "      <td>A</td>\n",
       "      <td>42</td>\n",
       "      <td>45</td>\n",
       "      <td>41</td>\n",
       "      <td>85.33</td>\n",
       "    </tr>\n",
       "    <tr>\n",
       "      <th>6104063</th>\n",
       "      <td>A</td>\n",
       "      <td>46</td>\n",
       "      <td>41</td>\n",
       "      <td>35</td>\n",
       "      <td>81.33</td>\n",
       "    </tr>\n",
       "    <tr>\n",
       "      <th>6104064</th>\n",
       "      <td>B</td>\n",
       "      <td>43</td>\n",
       "      <td>45</td>\n",
       "      <td>47</td>\n",
       "      <td>90.00</td>\n",
       "    </tr>\n",
       "  </tbody>\n",
       "</table>\n",
       "</div>"
      ],
      "text/plain": [
       "        Class  Mathematics  English  Physics  Total [%]\n",
       "ID                                                     \n",
       "6104060     A           46       42       48      90.67\n",
       "6104061     A           42       45       41      85.33\n",
       "6104063     A           46       41       35      81.33\n",
       "6104064     B           43       45       47      90.00"
      ]
     },
     "execution_count": 32,
     "metadata": {},
     "output_type": "execute_result"
    }
   ],
   "source": [
    "grades[(grades['Mathematics'] == grades['Mathematics'].max()) | (grades['English'] == grades['English'].max()) | (grades['Physics'] == grades['Physics'].max())]"
   ]
  },
  {
   "cell_type": "markdown",
   "metadata": {},
   "source": [
    "**Grouping**"
   ]
  },
  {
   "cell_type": "code",
   "execution_count": 26,
   "metadata": {},
   "outputs": [],
   "source": [
    "grouped = grades.groupby('Class')"
   ]
  },
  {
   "cell_type": "code",
   "execution_count": 27,
   "metadata": {},
   "outputs": [
    {
     "data": {
      "text/plain": [
       "<pandas.core.groupby.generic.DataFrameGroupBy object at 0x000001D0A4DB58E0>"
      ]
     },
     "execution_count": 27,
     "metadata": {},
     "output_type": "execute_result"
    }
   ],
   "source": [
    "grouped"
   ]
  },
  {
   "cell_type": "code",
   "execution_count": 28,
   "metadata": {},
   "outputs": [
    {
     "data": {
      "text/plain": [
       "Class\n",
       "A    90.666667\n",
       "B    90.000000\n",
       "Name: Total [%], dtype: float64"
      ]
     },
     "execution_count": 28,
     "metadata": {},
     "output_type": "execute_result"
    }
   ],
   "source": [
    "grouped[\"Total [%]\"].max()"
   ]
  },
  {
   "cell_type": "code",
   "execution_count": 29,
   "metadata": {},
   "outputs": [
    {
     "data": {
      "text/html": [
       "<div>\n",
       "<style scoped>\n",
       "    .dataframe tbody tr th:only-of-type {\n",
       "        vertical-align: middle;\n",
       "    }\n",
       "\n",
       "    .dataframe tbody tr th {\n",
       "        vertical-align: top;\n",
       "    }\n",
       "\n",
       "    .dataframe thead th {\n",
       "        text-align: right;\n",
       "    }\n",
       "</style>\n",
       "<table border=\"1\" class=\"dataframe\">\n",
       "  <thead>\n",
       "    <tr style=\"text-align: right;\">\n",
       "      <th></th>\n",
       "      <th>Class</th>\n",
       "      <th>Mathematics</th>\n",
       "      <th>English</th>\n",
       "      <th>Physics</th>\n",
       "      <th>Total [%]</th>\n",
       "    </tr>\n",
       "    <tr>\n",
       "      <th>ID</th>\n",
       "      <th></th>\n",
       "      <th></th>\n",
       "      <th></th>\n",
       "      <th></th>\n",
       "      <th></th>\n",
       "    </tr>\n",
       "  </thead>\n",
       "  <tbody>\n",
       "    <tr>\n",
       "      <th>6104060</th>\n",
       "      <td>A</td>\n",
       "      <td>46</td>\n",
       "      <td>42</td>\n",
       "      <td>48</td>\n",
       "      <td>90.666667</td>\n",
       "    </tr>\n",
       "    <tr>\n",
       "      <th>6104061</th>\n",
       "      <td>A</td>\n",
       "      <td>42</td>\n",
       "      <td>45</td>\n",
       "      <td>41</td>\n",
       "      <td>85.333333</td>\n",
       "    </tr>\n",
       "    <tr>\n",
       "      <th>6104063</th>\n",
       "      <td>A</td>\n",
       "      <td>46</td>\n",
       "      <td>41</td>\n",
       "      <td>35</td>\n",
       "      <td>81.333333</td>\n",
       "    </tr>\n",
       "    <tr>\n",
       "      <th>6104067</th>\n",
       "      <td>A</td>\n",
       "      <td>45</td>\n",
       "      <td>43</td>\n",
       "      <td>46</td>\n",
       "      <td>89.333333</td>\n",
       "    </tr>\n",
       "  </tbody>\n",
       "</table>\n",
       "</div>"
      ],
      "text/plain": [
       "        Class  Mathematics  English  Physics  Total [%]\n",
       "ID                                                     \n",
       "6104060     A           46       42       48  90.666667\n",
       "6104061     A           42       45       41  85.333333\n",
       "6104063     A           46       41       35  81.333333\n",
       "6104067     A           45       43       46  89.333333"
      ]
     },
     "execution_count": 29,
     "metadata": {},
     "output_type": "execute_result"
    }
   ],
   "source": [
    "ClassA = grouped.get_group(\"A\")\n",
    "ClassA"
   ]
  },
  {
   "cell_type": "code",
   "execution_count": 37,
   "metadata": {},
   "outputs": [
    {
     "data": {
      "text/plain": [
       "pandas.core.frame.DataFrame"
      ]
     },
     "execution_count": 37,
     "metadata": {},
     "output_type": "execute_result"
    }
   ],
   "source": [
    "type(ClassA)    # Class A is now a separate DataFrame"
   ]
  },
  {
   "cell_type": "markdown",
   "metadata": {},
   "source": [
    "**Exercise 9**\n",
    "\n",
    "Create a bar chart for each class in one figure. The chart shall grades of the three subjects and total percentage for each student. Search Google, different plotting methods are acceptable."
   ]
  },
  {
   "cell_type": "code",
   "execution_count": 45,
   "metadata": {},
   "outputs": [
    {
     "data": {
      "image/png": "[encoded data removed]",
      "text/plain": [
       "<Figure size 432x288 with 1 Axes>"
      ]
     },
     "metadata": {
      "needs_background": "light"
     },
     "output_type": "display_data"
    }
   ],
   "source": [
    "barA = ClassA.plot.bar(rot=90)"
   ]
  },
  {
   "cell_type": "code",
   "execution_count": 30,
   "metadata": {},
   "outputs": [],
   "source": [
    "ClassB = grouped.get_group(\"B\")"
   ]
  },
  {
   "cell_type": "code",
   "execution_count": 34,
   "metadata": {},
   "outputs": [
    {
     "data": {
      "image/png": "[encoded data removed]",
      "text/plain": [
       "<Figure size 432x288 with 1 Axes>"
      ]
     },
     "metadata": {
      "needs_background": "light"
     },
     "output_type": "display_data"
    }
   ],
   "source": [
    "barB = ClassB.plot.bar(rot=45)"
   ]
  },
  {
   "cell_type": "code",
   "execution_count": 32,
   "metadata": {},
   "outputs": [],
   "source": [
    "import matplotlib.pyplot as plt"
   ]
  },
  {
   "cell_type": "code",
   "execution_count": 33,
   "metadata": {},
   "outputs": [
    {
     "data": {
      "text/plain": [
       "<matplotlib.legend.Legend at 0x1d0a9c159d0>"
      ]
     },
     "execution_count": 33,
     "metadata": {},
     "output_type": "execute_result"
    },
    {
     "data": {
      "image/png": "[encoded data removed]",
      "text/plain": [
       "<Figure size 1296x576 with 2 Axes>"
      ]
     },
     "metadata": {
      "needs_background": "light"
     },
     "output_type": "display_data"
    }
   ],
   "source": [
    "fig, axes = plt.subplots(figsize=(18,8),nrows=1, ncols=2)\n",
    "ClassA.plot(ax=axes[0], kind='bar', rot=0, title = 'Class A')\n",
    "ClassB.plot(ax=axes[1], kind='bar', rot=0, title = 'Class B')\n",
    "axes[0].legend(loc='best')\n",
    "axes[1].legend(loc='best')"
   ]
  }
 ],
 "metadata": {
  "colab": {
   "collapsed_sections": [],
   "name": "Untitled1.ipynb",
   "provenance": []
  },
  "kernelspec": {
   "display_name": "Python 3 (ipykernel)",
   "language": "python",
   "name": "python3"
  },
  "language_info": {
   "codemirror_mode": {
    "name": "ipython",
    "version": 3
   },
   "file_extension": ".py",
   "mimetype": "text/x-python",
   "name": "python",
   "nbconvert_exporter": "python",
   "pygments_lexer": "ipython3",
   "version": "3.8.11"
  }
 },
 "nbformat": 4,
 "nbformat_minor": 4
}
